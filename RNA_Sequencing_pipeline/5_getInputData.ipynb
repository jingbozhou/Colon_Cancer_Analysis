{
 "cells": [
  {
   "cell_type": "code",
   "execution_count": 1,
   "metadata": {},
   "outputs": [],
   "source": [
    "\"\"\"\n",
    "Get from GTEX normal sample reads\n",
    "\"\"\"\n",
    "import os\n",
    "\n",
    "colon_samp_list = []\n",
    "GTEx_path = \"/home/jingbozhou/Project/databases/GTEx/\"\n",
    "with open(os.path.join(GTEx_path, \"GTEx_Analysis_v8_Annotations_SampleAttributesDS.txt\")) as f:\n",
    "    header_line = f.readline()\n",
    "    header_line = header_line.rstrip().split(\"\\t\")\n",
    "    # print(header_line.index(\"SMTS\"))  # 5\n",
    "    for line in f:\n",
    "        line = line.rstrip().split(\"\\t\")\n",
    "        if line[5] == \"Colon\":\n",
    "            colon_samp_list.append(line[0])\n",
    "            \n",
    "output_file = open(\"./gtex_colon_raw.txt\", \"w\")\n",
    "with open(os.path.join(GTEx_path, \"GTEx_Analysis_2017-06-05_v8_RNASeQCv1.1.9_gene_reads.gct\")) as f:\n",
    "    f.readline()\n",
    "    f.readline()\n",
    "    header_line = f.readline().rstrip().split(\"\\t\")\n",
    "    col_index = [header_line.index(x) for x in colon_samp_list if x in header_line]\n",
    "    \n",
    "    output_file.write(\"\\t\".join([\"Gene_name\"]+\\\n",
    "                                [\"GTEx_colon_{}\".format(x) for x in range(1, len(col_index)+1)])+\"\\n\")\n",
    "    for line in f:\n",
    "        line = line.rstrip().split(\"\\t\")\n",
    "        output_file.write(\"\\t\".join([line[1]]+\\\n",
    "                                    [line[x] for x in col_index])+\"\\n\")\n",
    "        \n",
    "\n",
    "output_file.close()"
   ]
  },
  {
   "cell_type": "code",
   "execution_count": null,
   "metadata": {},
   "outputs": [],
   "source": []
  },
  {
   "cell_type": "code",
   "execution_count": 4,
   "metadata": {},
   "outputs": [],
   "source": [
    "\"\"\"\n",
    "Get GTEx sample information\n",
    "\"\"\"\n",
    "import os\n",
    "\n",
    "colon_samp_d = {}\n",
    "GTEx_path = \"/home/jingbozhou/Project/databases/GTEx/\"\n",
    "with open(os.path.join(GTEx_path, \"GTEx_Analysis_v8_Annotations_SampleAttributesDS.txt\")) as f:\n",
    "    header_line = f.readline()\n",
    "    header_line = header_line.rstrip().split(\"\\t\")\n",
    "    # print(header_line.index(\"SMTS\"))  # 5\n",
    "    for line in f:\n",
    "        line = line.rstrip().split(\"\\t\")\n",
    "        if line[5] == \"Colon\":\n",
    "            colon_samp_d[line[0]] = [line[5], line[6]]\n",
    "            \n",
    "with open(os.path.join(GTEx_path, \"GTEx_Analysis_2017-06-05_v8_RNASeQCv1.1.9_gene_reads.gct\")) as f:\n",
    "    f.readline()\n",
    "    f.readline()\n",
    "    header_line = f.readline().rstrip().split(\"\\t\")\n",
    "    col_index = [header_line.index(x) for x in colon_samp_d.keys() if x in header_line]\n",
    "    colon_name = [header_line[x] for x in col_index]\n",
    "\n",
    "with open(\"./GTEx_colon_sample_name\", \"w\") as out_f:\n",
    "    out_f.write(\"\\t\".join([\"Sample_id\", \"Count_id\", \"Source\", \"Type\"])+\"\\n\")\n",
    "    count = 1\n",
    "    for item in colon_name:\n",
    "        out_f.write(\"\\t\".join([item, \"GTEx_colon_{}\".format(count)]+\\\n",
    "                              colon_samp_d[item])+\"\\n\")\n",
    "        count += 1"
   ]
  },
  {
   "cell_type": "code",
   "execution_count": null,
   "metadata": {},
   "outputs": [],
   "source": []
  },
  {
   "cell_type": "code",
   "execution_count": 15,
   "metadata": {},
   "outputs": [],
   "source": [
    "import os \n",
    "\n",
    "gtex_d = {}\n",
    "with open(\"./gtex_colon_raw.txt\") as f:\n",
    "    f.readline()\n",
    "    for line in f:\n",
    "        line = line.rstrip().split(\"\\t\")\n",
    "        gtex_d[line[0]] = line[1:]\n",
    "\n",
    "output_file = open(\"./alloldRNAaddNor.txt\", \"w\")\n",
    "with open(\"../4_counts/alloldSam_counts\") as f:\n",
    "    f.readline()\n",
    "    header_line = f.readline().rstrip().split(\"\\t\")\n",
    "    out_header = header_line[:6] +\\\n",
    "    [os.path.basename(x).split(\".\")[0] for x in header_line[6:]]+\\\n",
    "    [\"GTEx_colon_{}\".format(x) for x in range(1, 780)]\n",
    "    output_file.write(\"\\t\".join(out_header)+\"\\n\")\n",
    "    \n",
    "    for line in f:\n",
    "        line = line.rstrip().split(\"\\t\")\n",
    "        if line[0] in gtex_d:\n",
    "            output_file.write(\"\\t\".join(line+gtex_d[line[0]])+\"\\n\")\n",
    "        else:\n",
    "            output_file.write(\"\\t\".join(line+[str(0) for x in range(1, 780)])+\"\\n\")\n",
    "            \n",
    "output_file.close()"
   ]
  },
  {
   "cell_type": "code",
   "execution_count": null,
   "metadata": {},
   "outputs": [],
   "source": []
  },
  {
   "cell_type": "code",
   "execution_count": 20,
   "metadata": {},
   "outputs": [],
   "source": [
    "output_file = open(\"./alloldRNAaddNor_anno.txt\", \"w\")\n",
    "with open(\"./alloldRNAaddNor.txt\") as f:\n",
    "    header_line = f.readline().rstrip().split(\"\\t\")\n",
    "    for item in header_line[6:]:\n",
    "        if item.startswith(\"GTEx_colon\"):\n",
    "            output_file.write(\"\\t\".join([item, \"Normal\"])+\"\\n\")\n",
    "        else:\n",
    "            output_file.write(\"\\t\".join([item, \"Tumor\"])+\"\\n\")\n",
    "\n",
    "output_file.close()"
   ]
  },
  {
   "cell_type": "code",
   "execution_count": null,
   "metadata": {},
   "outputs": [],
   "source": []
  },
  {
   "cell_type": "code",
   "execution_count": null,
   "metadata": {},
   "outputs": [],
   "source": []
  }
 ],
 "metadata": {
  "kernelspec": {
   "display_name": "Python 3 (ipykernel)",
   "language": "python",
   "name": "python3"
  },
  "language_info": {
   "codemirror_mode": {
    "name": "ipython",
    "version": 3
   },
   "file_extension": ".py",
   "mimetype": "text/x-python",
   "name": "python",
   "nbconvert_exporter": "python",
   "pygments_lexer": "ipython3",
   "version": "3.9.7"
  }
 },
 "nbformat": 4,
 "nbformat_minor": 5
}
