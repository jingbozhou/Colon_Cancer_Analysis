{
 "cells": [
  {
   "cell_type": "code",
   "execution_count": 2,
   "id": "78cb4179",
   "metadata": {},
   "outputs": [
    {
     "name": "stderr",
     "output_type": "stream",
     "text": [
      "estimating size factors\n",
      "estimating dispersions\n",
      "gene-wise dispersion estimates\n",
      "mean-dispersion relationship\n",
      "final dispersion estimates\n",
      "fitting model and testing\n",
      "-- replacing outliers and refitting for 1958 genes\n",
      "-- DESeq argument 'minReplicatesForReplace' = 7 \n",
      "-- original counts are preserved in counts(dds)\n",
      "estimating dispersions\n",
      "fitting model and testing\n"
     ]
    }
   ],
   "source": [
    "options(stringsAsFactors = F)\n",
    "\n",
    "library(\"DESeq2\")\n",
    "\n",
    "#library(BiocParallel)\n",
    "#register(MulticoreParam(4))\n",
    "\n",
    "raw_count = read.csv(\"./alloldRNAaddNor.txt\", header = T, row.names = 1, sep = \"\\t\")\n",
    "raw_anno = read.csv(\"./alloldRNAaddNor_anno.txt\", header = F, row.names = 1, sep = \"\\t\")\n",
    "\n",
    "colnames(raw_anno) <- \"condition\"\n",
    "raw_anno$condition <- as.factor(raw_anno$condition)\n",
    "\n",
    "need_count  <- raw_count[, -c(1:5)]\n",
    "count_info <- need_count[,rownames(raw_anno)]\n",
    "\n",
    "### construct dds matrix\n",
    "dds <- DESeqDataSetFromMatrix(countData = count_info, \n",
    "                              colData = raw_anno,\n",
    "                              design = ~condition)\n",
    "\n",
    "keep <- rowSums(counts(dds)) >= 10\n",
    "dds <- dds[keep,]\n",
    "dds$condition <- factor(dds$condition, levels = c(\"Tumor\", \"Normal\"))\n",
    "\n",
    "dds <- DESeq(dds)\n",
    "\n",
    "res <- results(dds, contrast=c(\"condition\", \"Tumor\", \"Normal\"))"
   ]
  },
  {
   "cell_type": "code",
   "execution_count": 4,
   "id": "59136b23",
   "metadata": {},
   "outputs": [
    {
     "data": {
      "text/html": [
       "<table>\n",
       "<thead><tr><th></th><th scope=col>baseMean</th><th scope=col>log2FoldChange</th><th scope=col>lfcSE</th><th scope=col>stat</th><th scope=col>pvalue</th><th scope=col>padj</th></tr></thead>\n",
       "<tbody>\n",
       "\t<tr><th scope=row>DLC1</th><td>5120.019    </td><td>-3.815578   </td><td>0.2226643   </td><td>-17.13601   </td><td>7.995247e-66</td><td>1.297173e-64</td></tr>\n",
       "\t<tr><th scope=row>SYNE2</th><td>8039.340    </td><td>-1.415474   </td><td>0.1396962   </td><td>-10.13251   </td><td>3.963341e-24</td><td>2.112160e-23</td></tr>\n",
       "</tbody>\n",
       "</table>\n"
      ],
      "text/latex": [
       "\\begin{tabular}{r|llllll}\n",
       "  & baseMean & log2FoldChange & lfcSE & stat & pvalue & padj\\\\\n",
       "\\hline\n",
       "\tDLC1 & 5120.019     & -3.815578    & 0.2226643    & -17.13601    & 7.995247e-66 & 1.297173e-64\\\\\n",
       "\tSYNE2 & 8039.340     & -1.415474    & 0.1396962    & -10.13251    & 3.963341e-24 & 2.112160e-23\\\\\n",
       "\\end{tabular}\n"
      ],
      "text/markdown": [
       "\n",
       "| <!--/--> | baseMean | log2FoldChange | lfcSE | stat | pvalue | padj |\n",
       "|---|---|---|---|---|---|---|\n",
       "| DLC1 | 5120.019     | -3.815578    | 0.2226643    | -17.13601    | 7.995247e-66 | 1.297173e-64 |\n",
       "| SYNE2 | 8039.340     | -1.415474    | 0.1396962    | -10.13251    | 3.963341e-24 | 2.112160e-23 |\n",
       "\n"
      ],
      "text/plain": [
       "      baseMean log2FoldChange lfcSE     stat      pvalue       padj        \n",
       "DLC1  5120.019 -3.815578      0.2226643 -17.13601 7.995247e-66 1.297173e-64\n",
       "SYNE2 8039.340 -1.415474      0.1396962 -10.13251 3.963341e-24 2.112160e-23"
      ]
     },
     "metadata": {},
     "output_type": "display_data"
    }
   ],
   "source": [
    "df <- as.data.frame(res)\n",
    "df[c(\"DLC1\", \"SYNE2\"),]"
   ]
  },
  {
   "cell_type": "code",
   "execution_count": null,
   "id": "5d2e03e5",
   "metadata": {},
   "outputs": [],
   "source": []
  },
  {
   "cell_type": "code",
   "execution_count": null,
   "id": "4d9f4234",
   "metadata": {},
   "outputs": [],
   "source": []
  },
  {
   "cell_type": "code",
   "execution_count": 12,
   "id": "1bc52bdf",
   "metadata": {},
   "outputs": [],
   "source": [
    "raw_count = read.csv(\"./alloldRNAaddNor.txt\", header = T, row.names = 1, sep = \"\\t\")\n",
    "\n",
    "raw_anno = read.csv(\"./alloldRNAaddNor_anno.txt\", header = F, row.names = 1, sep = \"\\t\")"
   ]
  },
  {
   "cell_type": "code",
   "execution_count": 15,
   "id": "1be47d79",
   "metadata": {},
   "outputs": [],
   "source": [
    "colnames(raw_anno) <- \"condition\"\n",
    "raw_anno$condition <- as.factor(raw_anno$condition)"
   ]
  },
  {
   "cell_type": "code",
   "execution_count": 18,
   "id": "137ed756",
   "metadata": {},
   "outputs": [],
   "source": [
    "need_count  <- raw_count[, -c(1:5)]\n",
    "count_info <- need_count[,rownames(raw_anno)]"
   ]
  },
  {
   "cell_type": "code",
   "execution_count": 20,
   "id": "1ce434e4",
   "metadata": {},
   "outputs": [],
   "source": [
    "### construct dds matrix\n",
    "dds <- DESeqDataSetFromMatrix(countData = count_info, \n",
    "                              colData = raw_anno,\n",
    "                              design = ~condition)"
   ]
  },
  {
   "cell_type": "code",
   "execution_count": 21,
   "id": "e793a48d",
   "metadata": {},
   "outputs": [],
   "source": [
    "keep <- rowSums(counts(dds)) >= 10\n",
    "dds <- dds[keep,]\n",
    "dds$condition <- factor(dds$condition, levels = c(\"Tumor\", \"Normal\"))"
   ]
  },
  {
   "cell_type": "code",
   "execution_count": 23,
   "id": "168cfdd9",
   "metadata": {},
   "outputs": [
    {
     "name": "stderr",
     "output_type": "stream",
     "text": [
      "estimating size factors\n",
      "estimating dispersions\n",
      "gene-wise dispersion estimates\n",
      "mean-dispersion relationship\n",
      "final dispersion estimates\n",
      "fitting model and testing\n",
      "-- replacing outliers and refitting for 1958 genes\n",
      "-- DESeq argument 'minReplicatesForReplace' = 7 \n",
      "-- original counts are preserved in counts(dds)\n",
      "estimating dispersions\n",
      "fitting model and testing\n"
     ]
    }
   ],
   "source": [
    "dds <- DESeq(dds)"
   ]
  },
  {
   "cell_type": "code",
   "execution_count": null,
   "id": "c325f127",
   "metadata": {},
   "outputs": [],
   "source": []
  },
  {
   "cell_type": "code",
   "execution_count": 24,
   "id": "9dac563b",
   "metadata": {},
   "outputs": [],
   "source": [
    "res_1 <- results(dds, contrast=c(\"condition\", \"Tumor\", \"Normal\"))\n",
    "res_2 <- results(dds, contrast=c(\"condition\", \"Normal\", \"Tumor\"))"
   ]
  },
  {
   "cell_type": "code",
   "execution_count": 31,
   "id": "c7ae8935",
   "metadata": {},
   "outputs": [],
   "source": [
    "res_1 <- as.data.frame(res_1)\n",
    "\n",
    "diff_gene_deseq2 <- subset(res_1, padj < 0.05 & abs(log2FoldChange) > 1)\n",
    "\n",
    "write.csv(diff_gene_deseq2, file=\"./oldRNAsampDiff.csv\")"
   ]
  },
  {
   "cell_type": "code",
   "execution_count": null,
   "id": "51b12505",
   "metadata": {},
   "outputs": [],
   "source": []
  },
  {
   "cell_type": "code",
   "execution_count": 26,
   "id": "215f69da",
   "metadata": {},
   "outputs": [],
   "source": [
    "df <- as.data.frame(res)"
   ]
  },
  {
   "cell_type": "code",
   "execution_count": 29,
   "id": "f223d014",
   "metadata": {},
   "outputs": [
    {
     "data": {
      "text/html": [
       "<table>\n",
       "<thead><tr><th></th><th scope=col>baseMean</th><th scope=col>log2FoldChange</th><th scope=col>lfcSE</th><th scope=col>stat</th><th scope=col>pvalue</th><th scope=col>padj</th></tr></thead>\n",
       "<tbody>\n",
       "\t<tr><th scope=row>DLC1</th><td>5120.019    </td><td>3.815578    </td><td>0.2226643   </td><td>17.13601    </td><td>7.995247e-66</td><td>1.297173e-64</td></tr>\n",
       "\t<tr><th scope=row>SYNE2</th><td>8039.340    </td><td>1.415474    </td><td>0.1396962   </td><td>10.13251    </td><td>3.963341e-24</td><td>2.112160e-23</td></tr>\n",
       "</tbody>\n",
       "</table>\n"
      ],
      "text/latex": [
       "\\begin{tabular}{r|llllll}\n",
       "  & baseMean & log2FoldChange & lfcSE & stat & pvalue & padj\\\\\n",
       "\\hline\n",
       "\tDLC1 & 5120.019     & 3.815578     & 0.2226643    & 17.13601     & 7.995247e-66 & 1.297173e-64\\\\\n",
       "\tSYNE2 & 8039.340     & 1.415474     & 0.1396962    & 10.13251     & 3.963341e-24 & 2.112160e-23\\\\\n",
       "\\end{tabular}\n"
      ],
      "text/markdown": [
       "\n",
       "| <!--/--> | baseMean | log2FoldChange | lfcSE | stat | pvalue | padj |\n",
       "|---|---|---|---|---|---|---|\n",
       "| DLC1 | 5120.019     | 3.815578     | 0.2226643    | 17.13601     | 7.995247e-66 | 1.297173e-64 |\n",
       "| SYNE2 | 8039.340     | 1.415474     | 0.1396962    | 10.13251     | 3.963341e-24 | 2.112160e-23 |\n",
       "\n"
      ],
      "text/plain": [
       "      baseMean log2FoldChange lfcSE     stat     pvalue       padj        \n",
       "DLC1  5120.019 3.815578       0.2226643 17.13601 7.995247e-66 1.297173e-64\n",
       "SYNE2 8039.340 1.415474       0.1396962 10.13251 3.963341e-24 2.112160e-23"
      ]
     },
     "metadata": {},
     "output_type": "display_data"
    }
   ],
   "source": [
    "df[c(\"DLC1\", \"SYNE2\"),]"
   ]
  },
  {
   "cell_type": "code",
   "execution_count": null,
   "id": "c81e2791",
   "metadata": {},
   "outputs": [],
   "source": []
  }
 ],
 "metadata": {
  "kernelspec": {
   "display_name": "R",
   "language": "R",
   "name": "ir"
  },
  "language_info": {
   "codemirror_mode": "r",
   "file_extension": ".r",
   "mimetype": "text/x-r-source",
   "name": "R",
   "pygments_lexer": "r",
   "version": "3.6.1"
  }
 },
 "nbformat": 4,
 "nbformat_minor": 5
}
